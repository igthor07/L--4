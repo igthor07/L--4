{
  "cells": [
    {
      "cell_type": "code",
      "execution_count": null,
      "metadata": {},
      "outputs": [],
      "source": [
        "// 12. Write CUDA program for addition of two vectors"
      ]
    },
    {
      "cell_type": "code",
      "execution_count": 5,
      "metadata": {
        "colab": {
          "base_uri": "https://localhost:8080/"
        },
        "id": "38howt4sSU9Z",
        "outputId": "19e13709-ebab-4abb-80c3-43161702a29c"
      },
      "outputs": [
        {
          "name": "stdout",
          "output_type": "stream",
          "text": [
            "Collecting nvcc4jupyter\n",
            "  Downloading nvcc4jupyter-1.2.1-py3-none-any.whl (10 kB)\n",
            "Installing collected packages: nvcc4jupyter\n",
            "Successfully installed nvcc4jupyter-1.2.1\n"
          ]
        }
      ],
      "source": [
        "pip install nvcc4jupyter"
      ]
    },
    {
      "cell_type": "code",
      "execution_count": 6,
      "metadata": {
        "colab": {
          "base_uri": "https://localhost:8080/"
        },
        "id": "re-u0jZyR1Dj",
        "outputId": "e802c61e-09fc-4987-be69-6717ca14d3ba"
      },
      "outputs": [
        {
          "name": "stdout",
          "output_type": "stream",
          "text": [
            "Detected platform \"Colab\". Running its setup...\n",
            "Source files will be saved in \"/tmp/tmpwnpzpozj\".\n"
          ]
        }
      ],
      "source": [
        "%load_ext nvcc4jupyter"
      ]
    },
    {
      "cell_type": "code",
      "execution_count": 21,
      "metadata": {
        "colab": {
          "base_uri": "https://localhost:8080/"
        },
        "id": "TFX38qoWShp8",
        "outputId": "842d972b-8925-41de-dbfa-2514fdbd32f5"
      },
      "outputs": [
        {
          "name": "stdout",
          "output_type": "stream",
          "text": [
            "0 2 4 6 8 10 12 14 16 18 \n",
            "\n"
          ]
        }
      ],
      "source": [
        "%%cuda\n",
        "#include <iostream>\n",
        "\n",
        "__global__ void add(int *a, int *b, int *c){\n",
        "    int tid = blockIdx.x;\n",
        "    if (tid < 10) {\n",
        "        c[tid] = a[tid] + b[tid];\n",
        "    }\n",
        "}\n",
        "\n",
        "int main() {\n",
        "    int a[10], b[10], c[10];\n",
        "    int *dev_a, *dev_b, *dev_c;\n",
        "\n",
        "    // Allocate memory on the GPU\n",
        "    cudaMalloc((void**)&dev_a, 10 * sizeof(int));\n",
        "    cudaMalloc((void**)&dev_b, 10 * sizeof(int));\n",
        "    cudaMalloc((void**)&dev_c, 10 * sizeof(int));\n",
        "\n",
        "    // Initialize input vectors\n",
        "    for (int i = 0; i < 10; ++i) {\n",
        "        a[i] = i;\n",
        "        b[i] = i;\n",
        "    }\n",
        "\n",
        "    // Copy input vectors from host memory to GPU buffers\n",
        "    cudaMemcpy(dev_a, a, 10 * sizeof(int), cudaMemcpyHostToDevice);\n",
        "    cudaMemcpy(dev_b, b, 10 * sizeof(int), cudaMemcpyHostToDevice);\n",
        "\n",
        "    // Launch add() kernel on GPU\n",
        "    add<<<10, 1>>>(dev_a, dev_b, dev_c);\n",
        "\n",
        "    // Copy result back to host memory\n",
        "    cudaMemcpy(c, dev_c, 10 * sizeof(int), cudaMemcpyDeviceToHost);\n",
        "\n",
        "    // Cleanup\n",
        "    cudaFree(dev_a); cudaFree(dev_b); cudaFree(dev_c);\n",
        "\n",
        "    // Print result\n",
        "    for (int i = 0; i < 10; ++i) {\n",
        "        std::cout << c[i] << \" \";\n",
        "    }\n",
        "    std::cout << std::endl;\n",
        "\n",
        "    return 0;\n",
        "}\n"
      ]
    },
    {
      "cell_type": "markdown",
      "metadata": {},
      "source": [
        "To run\n",
        "\n",
        "Google Colab--> Runtime--> change runtime type--> Hardware accelerator--> T4 GPU--> save--> (in new cell) pip install nvcc4jupyter--> run(Shift+enter)--> (In new cell) %load_ext nvcc4jupyter--> run(Shift+enter)--> (in new cell) write program(Start with %%cuda)--> code--> shift+enter"
      ]
    }
  ],
  "metadata": {
    "accelerator": "GPU",
    "colab": {
      "gpuType": "T4",
      "provenance": []
    },
    "kernelspec": {
      "display_name": "Python 3",
      "name": "python3"
    },
    "language_info": {
      "name": "python"
    }
  },
  "nbformat": 4,
  "nbformat_minor": 0
}
