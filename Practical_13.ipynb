{
  "cells": [
    {
      "cell_type": "code",
      "execution_count": null,
      "metadata": {},
      "outputs": [],
      "source": [
        "// 13. Write CUDA program for matrix multiplication"
      ]
    },
    {
      "cell_type": "code",
      "execution_count": 1,
      "metadata": {
        "colab": {
          "base_uri": "https://localhost:8080/"
        },
        "id": "4Js6d4RLaifD",
        "outputId": "89aa28f0-aac4-4c2e-c8c2-a041ca7a5954"
      },
      "outputs": [
        {
          "name": "stdout",
          "output_type": "stream",
          "text": [
            "Collecting nvcc4jupyter\n",
            "  Downloading nvcc4jupyter-1.2.1-py3-none-any.whl (10 kB)\n",
            "Installing collected packages: nvcc4jupyter\n",
            "Successfully installed nvcc4jupyter-1.2.1\n"
          ]
        }
      ],
      "source": [
        "pip install nvcc4jupyter"
      ]
    },
    {
      "cell_type": "code",
      "execution_count": 2,
      "metadata": {
        "colab": {
          "base_uri": "https://localhost:8080/"
        },
        "id": "lQKvaCDpjL8E",
        "outputId": "1344c31c-be2a-46d1-f91a-f1a4014459e5"
      },
      "outputs": [
        {
          "name": "stdout",
          "output_type": "stream",
          "text": [
            "Detected platform \"Colab\". Running its setup...\n",
            "Source files will be saved in \"/tmp/tmpinhmyqo0\".\n"
          ]
        }
      ],
      "source": [
        "%load_ext nvcc4jupyter"
      ]
    },
    {
      "cell_type": "code",
      "execution_count": 3,
      "metadata": {
        "colab": {
          "base_uri": "https://localhost:8080/"
        },
        "id": "-OtNf6PijVpp",
        "outputId": "bf63f8d9-8a41-47a0-a1f5-3b62f087dbae"
      },
      "outputs": [
        {
          "name": "stdout",
          "output_type": "stream",
          "text": [
            "Resultant Matrix:\n",
            "30 24 18 \n",
            "84 69 54 \n",
            "138 114 90 \n",
            "\n"
          ]
        }
      ],
      "source": [
        "%%cuda\n",
        "#include <iostream>\n",
        "\n",
        "#define N 3\n",
        "\n",
        "__global__ void matrixMul(int *a, int *b, int *c) {\n",
        "    int row = blockIdx.y * blockDim.y + threadIdx.y;\n",
        "    int col = blockIdx.x * blockDim.x + threadIdx.x;\n",
        "\n",
        "    if (row < N && col < N) {\n",
        "        int sum = 0;\n",
        "        for (int i = 0; i < N; ++i) {\n",
        "            sum += a[row * N + i] * b[i * N + col];\n",
        "        }\n",
        "        c[row * N + col] = sum;\n",
        "    }\n",
        "}\n",
        "\n",
        "int main() {\n",
        "    int a[N][N] = { {1, 2, 3}, {4, 5, 6}, {7, 8, 9} };\n",
        "    int b[N][N] = { {9, 8, 7}, {6, 5, 4}, {3, 2, 1} };\n",
        "    int c[N][N] = {0};\n",
        "\n",
        "    int *dev_a, *dev_b, *dev_c;\n",
        "    cudaMalloc((void**)&dev_a, N * N * sizeof(int));\n",
        "    cudaMalloc((void**)&dev_b, N * N * sizeof(int));\n",
        "    cudaMalloc((void**)&dev_c, N * N * sizeof(int));\n",
        "\n",
        "    cudaMemcpy(dev_a, a, N * N * sizeof(int), cudaMemcpyHostToDevice);\n",
        "    cudaMemcpy(dev_b, b, N * N * sizeof(int), cudaMemcpyHostToDevice);\n",
        "\n",
        "    dim3 threadsPerBlock(N, N);\n",
        "    dim3 numBlocks(1, 1);\n",
        "\n",
        "    matrixMul<<<numBlocks, threadsPerBlock>>>(dev_a, dev_b, dev_c);\n",
        "\n",
        "    cudaMemcpy(c, dev_c, N * N * sizeof(int), cudaMemcpyDeviceToHost);\n",
        "\n",
        "    cudaFree(dev_a); cudaFree(dev_b); cudaFree(dev_c);\n",
        "\n",
        "    std::cout << \"Resultant Matrix:\" << std::endl;\n",
        "    for (int i = 0; i < N; ++i) {\n",
        "        for (int j = 0; j < N; ++j) {\n",
        "            std::cout << c[i][j] << \" \";\n",
        "        }\n",
        "        std::cout << std::endl;\n",
        "    }\n",
        "\n",
        "    return 0;\n",
        "}\n"
      ]
    },
    {
      "cell_type": "markdown",
      "metadata": {
        "id": "04Ok4Rf3kJMR"
      },
      "source": [
        "To run\n",
        "\n",
        "Google Colab--> Runtime--> change runtime type--> Hardware accelerator--> T4 GPU--> save--> (in new cell) pip install nvcc4jupyter--> run(Shift+enter)--> (In new cell) %load_ext nvcc4jupyter--> run(Shift+enter)--> (in new cell) write program(Start with %%cuda)--> code--> shift+enter"
      ]
    },
    {
      "cell_type": "code",
      "execution_count": null,
      "metadata": {
        "id": "Umn5HsjTjp_G"
      },
      "outputs": [],
      "source": []
    }
  ],
  "metadata": {
    "accelerator": "GPU",
    "colab": {
      "gpuType": "T4",
      "provenance": []
    },
    "kernelspec": {
      "display_name": "Python 3",
      "name": "python3"
    },
    "language_info": {
      "name": "python"
    }
  },
  "nbformat": 4,
  "nbformat_minor": 0
}
